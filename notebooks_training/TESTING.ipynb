{
 "cells": [
  {
   "cell_type": "code",
   "execution_count": 2,
   "id": "536beeaa-9300-45da-aecc-100f662b31fd",
   "metadata": {},
   "outputs": [
    {
     "name": "stderr",
     "output_type": "stream",
     "text": [
      "WARNING:absl:Compiled the loaded model, but the compiled metrics have yet to be built. `model.compile_metrics` will be empty until you train or evaluate the model.\n"
     ]
    }
   ],
   "source": [
    "import tensorflow as tf\n",
    "\n",
    "# Load the trained model\n",
    "model = tf.keras.models.load_model('waste_classifier_inceptionv3_custom.h5')\n"
   ]
  },
  {
   "cell_type": "code",
   "execution_count": null,
   "id": "49d4823c-196b-4710-baeb-24ffb08b5869",
   "metadata": {},
   "outputs": [],
   "source": [
    "#pip install --upgrade tensorflow==2.16.1\n"
   ]
  },
  {
   "cell_type": "code",
   "execution_count": null,
   "id": "ac4cb9dc-37e9-413e-a9da-f27b18c18d54",
   "metadata": {},
   "outputs": [],
   "source": [
    "#pip install --upgrade keras==3.3.3"
   ]
  },
  {
   "cell_type": "code",
   "execution_count": 1,
   "id": "9d1b55e3-2a26-42b8-98d8-a3aabd7d8279",
   "metadata": {},
   "outputs": [
    {
     "name": "stdout",
     "output_type": "stream",
     "text": [
      "2.16.1\n",
      "3.3.3\n"
     ]
    }
   ],
   "source": [
    "import tensorflow as tf\n",
    "print(tf.__version__)  # TensorFlow version\n",
    "print(tf.keras.__version__)  # Keras version (if available)\n"
   ]
  },
  {
   "cell_type": "code",
   "execution_count": 46,
   "id": "07953035-385c-4844-915c-5da36e5c32c5",
   "metadata": {},
   "outputs": [],
   "source": [
    "from tensorflow.keras.preprocessing import image\n",
    "from tensorflow.keras.applications.inception_v3 import preprocess_input\n",
    "\n",
    "# Load and preprocess the image\n",
    "def load_and_preprocess_image(img_path):\n",
    "    img = image.load_img(img_path, target_size=(224, 224))  # Resize to the input size expected by InceptionV3\n",
    "    img_array = image.img_to_array(img)  # Convert image to array\n",
    "    img_array = tf.expand_dims(img_array, 0)  # Create a batch dimension\n",
    "    img_array = preprocess_input(img_array)  # Preprocess image for InceptionV3\n",
    "    return img_array\n",
    "\n",
    "img_path = 'images/shoes.jpg'  # Path to your input image\n",
    "img_array = load_and_preprocess_image(img_path)\n"
   ]
  },
  {
   "cell_type": "code",
   "execution_count": 47,
   "id": "b93d3971-1369-48b5-abfe-1aa672f32575",
   "metadata": {},
   "outputs": [
    {
     "name": "stdout",
     "output_type": "stream",
     "text": [
      "\u001b[1m1/1\u001b[0m \u001b[32m━━━━━━━━━━━━━━━━━━━━\u001b[0m\u001b[37m\u001b[0m \u001b[1m0s\u001b[0m 53ms/step\n"
     ]
    }
   ],
   "source": [
    "predictions = model.predict(img_array)"
   ]
  },
  {
   "cell_type": "code",
   "execution_count": 48,
   "id": "2168a2b9-8f79-4d13-90be-c58ea3a15ba8",
   "metadata": {},
   "outputs": [],
   "source": [
    "class_names = ['battery', 'biological', 'cardboard', 'clothes', 'glass', 'metal', 'paper', 'plastic', 'shoes', 'trash']"
   ]
  },
  {
   "cell_type": "code",
   "execution_count": 49,
   "id": "4b227413-3196-4ad5-af15-afb41e8be53e",
   "metadata": {},
   "outputs": [],
   "source": [
    "import numpy as np"
   ]
  },
  {
   "cell_type": "code",
   "execution_count": 50,
   "id": "2fcb52a1-e0cc-4e8d-a3e5-143519293ae2",
   "metadata": {},
   "outputs": [
    {
     "name": "stdout",
     "output_type": "stream",
     "text": [
      "Predicted class: shoes\n"
     ]
    }
   ],
   "source": [
    "predicted_class_index = np.argmax(predictions[0])\n",
    "predicted_class_name = class_names[predicted_class_index]\n",
    "\n",
    "print(f'Predicted class: {predicted_class_name}')"
   ]
  },
  {
   "cell_type": "code",
   "execution_count": null,
   "id": "2a1c4af3-6bd8-4503-b93b-2bd0cf0f5867",
   "metadata": {},
   "outputs": [],
   "source": []
  }
 ],
 "metadata": {
  "kernelspec": {
   "display_name": "Python 3 (ipykernel)",
   "language": "python",
   "name": "python3"
  },
  "language_info": {
   "codemirror_mode": {
    "name": "ipython",
    "version": 3
   },
   "file_extension": ".py",
   "mimetype": "text/x-python",
   "name": "python",
   "nbconvert_exporter": "python",
   "pygments_lexer": "ipython3",
   "version": "3.11.7"
  }
 },
 "nbformat": 4,
 "nbformat_minor": 5
}
